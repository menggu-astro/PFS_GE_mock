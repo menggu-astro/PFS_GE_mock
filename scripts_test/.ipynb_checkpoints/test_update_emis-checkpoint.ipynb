{
 "cells": [
  {
   "cell_type": "markdown",
   "metadata": {},
   "source": [
    "## README\n",
    "* this is the test notebook for updating emission line ratios based on Sean's codes\n",
    "* working on this on Apr 18, 2022\n",
    "* Here is the instruction from Joel\n",
    "- [ ] To calculate mstar, it is a little tricky -- you need to first call FSPS to get the ratio of stellar mass to total mass formed (the units of the massmet[0] parameter are unfortunately total mass formed). So first generate a spectrum using model.predict() with the correct theta, this will have the following format:\n",
    "    - spec, mags, sm = model.predict()...\n",
    "    - The key factor is \"sm\" -- this is the ratio of stellar mass to total mass formed.\n",
    "    - To get stellar mass, you then do: stellar_mass = np.log10(sm * 10**theta[logmass_index])\n",
    "    - calculate SFR from the nonparametric Prospector models\n",
    "    - A_V = dust2 * 1.086\n",
    "\n",
    "- [ ] That should let you calculate the inputs for any given set of Prospector parameters. You'll need to write some code to do this, which we will then tuck into Prospector below... Did you follow the discussion about doublets and atomic ratios above -- do you feel comfortable specifying the correct luminosities using these prescriptions?\n",
    "\n",
    "- [ ] Now, when that is settled, we can hack the Prospector code to take these emission line luminosities as inputs. You'll need to \n",
    "    - modify ```{/prospector/prospect/model/sedmodel.py}``` and reinstall Prospector after any modifications. \n",
    "    - Line 111 is where Prospector pulls the emission line luminosities from FSPS. \n",
    "    - What I would suggest doing is adding some code after this to replace some of these line luminosities with your own calculations from Sean's prescriptions. \n",
    "    - Note that this also gives you access to `sm`, so you can calculate the stellar mass right there as inputs to Sean's code. \n",
    "    \n",
    "- [ ] The existing list of lines is at `$SPS_HOME/data/emlines_info.dat`. I _think_ all of the needed lines are already in FSPS but you may have to add some new ones if they're not already in the list. The wavelength units are angstroms (rest frame!) and the luminosity units need to be in Lsun / (mass formed).\n",
    "\n",
    "- [ ] You will do one more thing to make sure that \n",
    "    - Prospector IS adding the emission lines to the spectrum \n",
    "    - and FSPS is NOT adding them (both codes have the capacity so we need to be careful here). \n",
    "    - First, make sure the 'nebemlineinspec' parameter is set to False -- this ensures that FSPS will not add lines to the spectrum. \n",
    "    - There is a really tangled set of boolean flags that control whether Prospector adds emission lines itself (you can see them in the `predict` function of the sedmodel file). \n",
    "    - I _think_ we can force Prospector to add emission lines instead by doing the following before calling model.predict:\n",
    "        \n",
    "    > obs['wavelength'] = sps.wavelength\n",
    "    > obs['spectrum'] = np.zeros_like(sps.wavelength)\n",
    "\n",
    "- [ ] I strongly suggest testing this to make sure that you're replacing the emission line luminosities properly, and that emission lines are being added (e.g., replace one luminosity with zero and make sure the resulting spectrum looks reasonable). It wouldn't surprise me if we had to iterate on this hack since the Prospector logic controlling emission line addition is quite complex (but hopefully we got it right the first time).  "
   ]
  },
  {
   "cell_type": "code",
   "execution_count": 1,
   "metadata": {},
   "outputs": [],
   "source": [
    "import pickle, sys, os\n",
    "import numpy as np\n",
    "import pandas as pd\n",
    "import prospect\n",
    "import pfs_spectra_params \n",
    "\n",
    "from astropy.io import fits\n",
    "from sedpy import observate\n",
    "import math"
   ]
  },
  {
   "cell_type": "code",
   "execution_count": 2,
   "metadata": {},
   "outputs": [],
   "source": [
    "def Choi_2014(logmstar):\n",
    "    return logmstar*0.11881615 - 1.0826891415131317\n",
    "\n",
    "def Matthee_2018(logmstar, logssfr):\n",
    "    return -0.282*(logmstar-10.0) + 0.290*(logssfr+logmstar) + 0.163\n",
    "\n",
    "def est_afe(logmstar, logssfr):\n",
    "    if logssfr > -10.5:\n",
    "        return Matthee_2018(logmstar, logssfr)\n",
    "    else:\n",
    "        return Choi_2014(logmstar)\n",
    "est_afe = np.vectorize(est_afe)"
   ]
  },
  {
   "cell_type": "code",
   "execution_count": 3,
   "metadata": {},
   "outputs": [
    {
     "name": "stdout",
     "output_type": "stream",
     "text": [
      "display first 5 objects\n",
      "dict_keys(['dust1_fraction', 'dust2', 'dust_index', 'gas_logz', 'logsfr_ratios_1', 'logsfr_ratios_2', 'logsfr_ratios_3', 'logsfr_ratios_4', 'logsfr_ratios_5', 'logsfr_ratios_6', 'z', 'name', 'log_stellarmass', 'log_ssfr', 'logmass', 'logzsol'])\n",
      "dust1_fraction [1.24274787 1.18358962 1.21648014 0.85535957 0.82708048]\n",
      "dust2 [1.30110954 1.45282801 0.25680514 0.06070061 0.45792446]\n",
      "dust_index [-0.25120421  0.06470886  0.14646028 -0.72055     0.35590058]\n",
      "gas_logz [ 0.11262719 -0.16669341 -0.67486781  0.2276225  -1.01314053]\n",
      "logsfr_ratios_1 [0.28752652 0.13026776 0.14127212 0.03998617 0.47830477]\n",
      "logsfr_ratios_2 [ 0.36074601  0.02157012 -0.07948795 -0.02777394  0.02428069]\n",
      "logsfr_ratios_3 [0.00788727 0.10336385 0.23229781 0.07597261 0.08781713]\n",
      "logsfr_ratios_4 [0.09498663 0.13472415 0.24671893 0.05407279 0.12071265]\n",
      "logsfr_ratios_5 [-0.39796617  0.17047266 -0.04688681 -0.27787392 -0.22250321]\n",
      "logsfr_ratios_6 [ 0.17108806  0.02099638 -0.11346972 -0.3261988  -0.11406414]\n",
      "z [1.3049 1.7499 1.0761 1.657  0.9595]\n",
      "name ['AEGIS_13' 'AEGIS_17' 'AEGIS_19' 'AEGIS_22' 'AEGIS_23']\n",
      "log_stellarmass [10.66677611 10.55743587  9.51026845  9.28363582  8.38584093]\n",
      "log_ssfr [5.91985838e-10 9.85640418e-10 6.02756909e-10 7.42222202e-10\n",
      " 1.06572010e-09]\n",
      "logmass [10.83985788 10.74933605  9.70704217  9.53510341  8.99167129]\n",
      "logzsol [-0.00231941 -0.52563126 -0.31658877  0.00585514  0.17535527]\n"
     ]
    }
   ],
   "source": [
    "    cat=pickle.load(open('../input/prospector_3dhst_bestfit_catalog.pickle', 'rb'))\n",
    "    print('display first 5 objects')\n",
    "    print(cat.keys())\n",
    "    for ikey in cat.keys():\n",
    "        print(ikey, cat[ikey][:5])"
   ]
  },
  {
   "cell_type": "code",
   "execution_count": 18,
   "metadata": {},
   "outputs": [],
   "source": [
    "from prospect.models.templates import TemplateLibrary\n",
    "from prospect.models.sedmodel import SpecModel\n",
    "\n",
    "model_pars = TemplateLibrary[\"parametric_sfh\"]\n",
    "model_pars.update(TemplateLibrary[\"nebular\"])\n",
    "model_pars[\"add_neb_emission\"][\"init\"] = True\n",
    "model_pars[\"nebemlineinspec\"][\"init\"] = False\n",
    "lines_to_ignore = [\"Ly alpha 1216\"]\n",
    "model_pars[\"elines_to_ignore\"] = dict(init=lines_to_ignore, isfree=False)\n",
    "\n",
    "model = SpecModel(model_pars)"
   ]
  },
  {
   "cell_type": "code",
   "execution_count": 4,
   "metadata": {},
   "outputs": [
    {
     "name": "stdout",
     "output_type": "stream",
     "text": [
      "finish building sps\n"
     ]
    }
   ],
   "source": [
    "    mod = pfs_spectra_params.build_model(objname='test',afe_on=True)\n",
    "    #mod.params['nebemlineinspec'] = True\n",
    "    #mod.params['nebemlineinspec'] = False\n",
    "    \n",
    "    sps = pfs_spectra_params.build_sps()\n",
    "    print('finish building sps')\n",
    "    # FILTERS\n",
    "    # UgrizyJ, IRAC1, IRAC2\n",
    "    filters = ['bessell_U']\n",
    "    filters +=  ['sdss_'+filt+'0' for filt in ['g','r','i','z']]\n",
    "    filters += ['uvista_y_cosmos','UDS_J']\n",
    "    filters += ['IRAC_CH1','IRAC_CH2']"
   ]
  },
  {
   "cell_type": "code",
   "execution_count": 17,
   "metadata": {},
   "outputs": [
    {
     "ename": "IndexError",
     "evalue": "only integers, slices (`:`), ellipsis (`...`), numpy.newaxis (`None`) and integer or boolean arrays are valid indices",
     "output_type": "error",
     "traceback": [
      "\u001b[0;31m---------------------------------------------------------------------------\u001b[0m",
      "\u001b[0;31mIndexError\u001b[0m                                Traceback (most recent call last)",
      "\u001b[0;32m/tmp/ipykernel_8678/828723870.py\u001b[0m in \u001b[0;36m<module>\u001b[0;34m\u001b[0m\n\u001b[0;32m----> 1\u001b[0;31m \u001b[0mmod\u001b[0m\u001b[0;34m.\u001b[0m\u001b[0mparams\u001b[0m\u001b[0;34m[\u001b[0m\u001b[0;34m'add_neb_emission'\u001b[0m\u001b[0;34m]\u001b[0m\u001b[0;34m[\u001b[0m\u001b[0;34m'init'\u001b[0m\u001b[0;34m]\u001b[0m\u001b[0;34m\u001b[0m\u001b[0;34m\u001b[0m\u001b[0m\n\u001b[0m",
      "\u001b[0;31mIndexError\u001b[0m: only integers, slices (`:`), ellipsis (`...`), numpy.newaxis (`None`) and integer or boolean arrays are valid indices"
     ]
    }
   ],
   "source": [
    "mod.params['add_neb_emission']"
   ]
  },
  {
   "cell_type": "code",
   "execution_count": 5,
   "metadata": {},
   "outputs": [
    {
     "name": "stdout",
     "output_type": "stream",
     "text": [
      "REMOVING REPEATED WAVELENGTH VALUES\n"
     ]
    }
   ],
   "source": [
    "    ### SPECTRUM\n",
    "    hdu = fits.open('../input/noise_spec_12hr.fits')\n",
    "    wave_obs = hdu[1].data['WAV']\n",
    "    #detector_noise = hdu[1].data['ERR']/1e-23/3631 * wave_obs**2/(3e18) # erg/s/cm^2/A\n",
    "\n",
    "    ### Remove repeated wavelength values\n",
    "    print('REMOVING REPEATED WAVELENGTH VALUES')\n",
    "    _, idx = np.unique(wave_obs, return_index=True)\n",
    "    wave_obs = wave_obs[idx]\n",
    "    #detector_noise = detector_noise[idx]\n",
    "\n",
    "    ### define masks\n",
    "    mask = np.ones(len(wave_obs),dtype=bool)\n",
    "    phot_mask = np.ones(len(filters),dtype='bool')\n",
    "\n",
    "    obs = {'filters': []}\n",
    "    for filt in filters:\n",
    "        #print('loading '+filt)\n",
    "        obs['filters'] += observate.load_filters([filt])\n",
    "    obs['wave_effective'] = np.array([filt.wave_effective for filt in obs['filters']])\n",
    "    obs['phot_mask'] = phot_mask\n",
    "    if wave_obs is not None:\n",
    "        obs['wavelength'] = wave_obs[mask]\n",
    "        obs['mask'] = np.ones(mask.sum(),dtype=bool)\n",
    "    else:\n",
    "        obs['wavelength'] = None"
   ]
  },
  {
   "cell_type": "code",
   "execution_count": 6,
   "metadata": {},
   "outputs": [],
   "source": [
    "    \"\"\"\n",
    "    theta_all_dict = {}\n",
    "    for iparams in ['logzsol', 'dust2', 'logsfr_ratios_1', \n",
    "                    'logsfr_ratios_2', 'logsfr_ratios_3', \n",
    "                    'logsfr_ratios_4', 'logsfr_ratios_5', \n",
    "                    'logsfr_ratios_6', 'logmass']:\n",
    "        theta_all_dict[iparams] = np.copy(cat[iparams])\n",
    "    theta_all_dict['zred'] = np.copy(cat['z'])\n",
    "    \n",
    "    # cat['log_ssfr'] is actually just ssfr, not logarithmic ssfr\n",
    "    theta_all_dict['afe'] = est_afe(cat['log_stellarmass'], np.log10(cat['log_ssfr']))\n",
    "    theta_all_dict['afe'] = np.clip(np.copy(theta_all_dict['afe']), -0.2, 0.6)\n",
    "\n",
    "    theta_all_dict['dust_index'] = np.copy(cat['dust_index'])\n",
    "    theta_all_dict['dust1_fraction'] = np.copy(cat['dust1_fraction'])\n",
    "    \n",
    "    # based on the LEGA-C mass-FJ relation\n",
    "    # Eq1 in https://arxiv.org/pdf/1811.07900.pdf says log σ =(−0.85 ± 0.11) + (0.29 ± 0.01) log M\n",
    "    theta_all_dict['sigma_smooth'] = 10**(0.29 * np.copy(cat['log_stellarmass']) - 0.85)\n",
    "    \n",
    "    # fix gas_logz to stellar metallicity\n",
    "    theta_all_dict['gas_logz'] = np.copy(cat['logzsol'])\n",
    "    theta_all_dict['gas_logu'] = np.zeros(cat['z'].shape)-2\n",
    "    theta_all_dict['eline_sigma'] = np.copy(theta_all_dict['sigma_smooth'])\n",
    "    \n",
    "    theta_all_df = pd.DataFrame.from_dict(theta_all_dict)\n",
    "    theta_all_df = theta_all_df.reindex(columns=mod.theta_labels())\n",
    "    theta_all_df.to_csv('theta_all.csv')\n",
    "    \"\"\"\n",
    "    \n",
    "    theta_all_df = pd.read_csv('theta_all.csv')  \n",
    "    theta_all_df = theta_all_df.reindex(columns=mod.theta_labels())"
   ]
  },
  {
   "cell_type": "code",
   "execution_count": 8,
   "metadata": {},
   "outputs": [],
   "source": [
    "i = 13"
   ]
  },
  {
   "cell_type": "code",
   "execution_count": 9,
   "metadata": {},
   "outputs": [
    {
     "name": "stdout",
     "output_type": "stream",
     "text": [
      "updating emission lines for PFS mock spectra\n",
      "[1.53572043e-05 1.58282295e-05 1.90847560e-05 2.48496821e-05\n",
      " 3.30157159e-05 4.48828135e-05 6.73909235e-05 3.05668049e-02\n",
      " 4.29754690e-05 1.05681643e-04 2.62625623e-04 9.40260814e-06\n",
      " 6.67718822e-05 4.39806831e-05 1.49420510e-03 9.81502882e-04\n",
      " 5.67339109e-06 8.73229633e-05 1.18045406e-05 2.55664485e-05\n",
      " 1.30764947e-04 8.62915278e-05 2.67931959e-05 8.34808398e-05\n",
      " 2.12635895e-04 1.34299010e-04 3.31004509e-04 1.78793968e-04\n",
      " 2.78098793e-05 2.96097244e-05 1.75069302e-04 3.59832751e-03\n",
      " 4.95220263e-03 1.02087503e-03 1.40775213e-03 6.44601375e-03\n",
      " 1.68511841e-03 2.04324097e-03 2.04073775e-03 3.19960091e-03\n",
      " 1.14329137e-04 3.81744801e-05 5.51263025e-03 1.10506671e-02\n",
      " 1.44063416e-03 8.98384316e-04 1.92327366e-13 1.14399315e-07\n",
      " 2.85937669e-02 2.70572383e-02 8.28548906e-02 2.97890734e-05\n",
      " 5.46606681e-06 7.92607676e-05 5.92071832e-05 6.97669968e-06\n",
      " 1.83329875e-05 4.01757100e-03 3.37190531e-04 7.63656771e-04\n",
      " 1.09412457e-04 2.79396291e-04 1.37151001e-01 8.31868548e-04\n",
      " 1.38147003e-03 1.91480285e-03 1.48028005e-03 1.29692528e-03\n",
      " 2.51937099e-03 4.47430881e-04 3.64308648e-04 2.16663100e-06\n",
      " 6.90503016e-04 3.14921792e-05 4.43119756e-07 1.34525184e-03\n",
      " 8.06912718e-03 9.03969636e-06 1.89967472e-03 2.13607906e-02\n",
      " 2.83329095e-03 5.67247612e-06 4.56913695e-03 4.52279525e-04\n",
      " 2.42918633e-02 8.09573939e-03 8.21845357e-03 2.81083119e-05\n",
      " 1.74285723e-02 1.28094349e-03 1.83446465e-03 5.26246705e-02\n",
      " 2.78778455e-03 4.61735690e-03 8.75496363e-03 1.09611034e-03\n",
      " 1.54927904e-03 2.27929669e-03 1.88264546e-02 3.62400840e-03\n",
      " 7.35519808e-04 1.04041696e-03 3.37003129e-04 6.60114208e-03\n",
      " 1.58282132e-03 5.70409265e-03 3.10510932e-02 2.68849393e-03\n",
      " 1.59268921e-03 3.37177947e-05 3.71161823e-02 2.23113569e-02\n",
      " 4.40585758e-04 7.30447619e-05 4.24187716e-02 1.04155802e-03\n",
      " 3.40492577e-03 6.49141922e-02 4.01986661e-03 8.16619603e-05\n",
      " 4.56544593e-04 8.14296945e-02 1.22581398e-04 4.51870754e-05\n",
      " 7.16031197e-04 4.93862154e-05 1.67632139e-08 2.00999381e-09]\n",
      "[1.53572043e-05 1.58282295e-05 1.90847560e-05 2.48496821e-05\n",
      " 3.30157159e-05 4.48828135e-05 6.73909235e-05 3.05668049e-02\n",
      " 4.29754690e-05 1.05681643e-04 2.62625623e-04 9.40260814e-06\n",
      " 6.67718822e-05 4.39806831e-05 1.49420510e-03 9.81502882e-04\n",
      " 5.67339109e-06 8.73229633e-05 1.18045406e-05 2.55664485e-05\n",
      " 1.30764947e-04 8.62915278e-05 2.67931959e-05 8.34808398e-05\n",
      " 2.12635895e-04 1.34299010e-04 3.31004509e-04 1.78793968e-04\n",
      " 2.78098793e-05 2.96097244e-05 1.75069302e-04 1.09410943e-02\n",
      " 1.46905266e-02 1.02087503e-03 1.40775213e-03 6.44601375e-03\n",
      " 1.02161828e-03 2.04324097e-03 6.29014429e-03 1.59933343e-03\n",
      " 1.14329137e-04 3.81744801e-05 2.75786598e-03 5.58651154e-03\n",
      " 1.44063416e-03 8.98384316e-04 1.92327366e-13 1.14399315e-07\n",
      " 1.47747343e-02 3.23772993e-02 9.64843518e-02 2.97890734e-05\n",
      " 5.46606681e-06 7.92607676e-05 5.92071832e-05 6.97669968e-06\n",
      " 1.83329875e-05 4.01757100e-03 3.37190531e-04 7.63656771e-04\n",
      " 1.09412457e-04 3.81183503e-04 6.99877858e-02 1.16260969e-03\n",
      " 1.38147003e-03 8.65441157e-04 8.17896803e-04 1.29692528e-03\n",
      " 2.51937099e-03 4.47430881e-04 3.64308648e-04 2.16663100e-06\n",
      " 6.90503016e-04 3.14921792e-05 4.43119756e-07 1.34525184e-03\n",
      " 8.06912718e-03 9.03969636e-06 1.89967472e-03 2.13607906e-02\n",
      " 2.83329095e-03 5.67247612e-06 4.56913695e-03 4.52279525e-04\n",
      " 2.42918633e-02 8.09573939e-03 8.21845357e-03 2.81083119e-05\n",
      " 1.74285723e-02 1.28094349e-03 1.83446465e-03 5.26246705e-02\n",
      " 2.78778455e-03 4.61735690e-03 8.75496363e-03 1.09611034e-03\n",
      " 1.54927904e-03 2.27929669e-03 1.88264546e-02 3.62400840e-03\n",
      " 7.35519808e-04 1.04041696e-03 3.37003129e-04 6.60114208e-03\n",
      " 1.58282132e-03 5.70409265e-03 3.10510932e-02 2.68849393e-03\n",
      " 1.59268921e-03 3.37177947e-05 3.71161823e-02 2.23113569e-02\n",
      " 4.40585758e-04 7.30447619e-05 4.24187716e-02 1.04155802e-03\n",
      " 3.40492577e-03 6.49141922e-02 4.01986661e-03 8.16619603e-05\n",
      " 4.56544593e-04 8.14296945e-02 1.22581398e-04 4.51870754e-05\n",
      " 7.16031197e-04 4.93862154e-05 1.67632139e-08 2.00999381e-09]\n"
     ]
    }
   ],
   "source": [
    "        obs['redshift'] = float(theta_all_df['zred'][i])\n",
    "        #obs['spectrum'] = np.zeros_like(obs['wavelength'])\n",
    "        \n",
    "        spec, photometric_fluxes, sm = mod.predict(theta =list(theta_all_df.loc[i].to_numpy()),\n",
    "                                                   obs = obs,\n",
    "                                                   sps = sps)"
   ]
  },
  {
   "cell_type": "code",
   "execution_count": 11,
   "metadata": {},
   "outputs": [],
   "source": [
    "%matplotlib inline\n",
    "import matplotlib.pyplot as plt"
   ]
  },
  {
   "cell_type": "code",
   "execution_count": 14,
   "metadata": {},
   "outputs": [
    {
     "data": {
      "text/plain": [
       "[<matplotlib.lines.Line2D at 0x2ac9988ecbe0>]"
      ]
     },
     "execution_count": 14,
     "metadata": {},
     "output_type": "execute_result"
    },
    {
     "data": {
      "image/png": "[encoded data removed]",
      "text/plain": [
       "<Figure size 432x288 with 1 Axes>"
      ]
     },
     "metadata": {
      "needs_background": "light"
     },
     "output_type": "display_data"
    }
   ],
   "source": [
    "plt.plot(obs['wavelength'], np.log10(spec))\n",
    "#plt.xlim(4e3, 8e3)\n",
    "#plt.ylim(-11, -9)"
   ]
  },
  {
   "cell_type": "code",
   "execution_count": 11,
   "metadata": {},
   "outputs": [],
   "source": [
    "_eline_wave, _eline_lum = sps.get_galaxy_elines()"
   ]
  },
  {
   "cell_type": "code",
   "execution_count": 12,
   "metadata": {},
   "outputs": [
    {
     "data": {
      "text/plain": [
       "array([6.68160736e-10, 7.22246790e-10, 1.07946211e-09, 1.65239923e-09,\n",
       "       2.49491837e-09, 5.25570933e-09, 1.62739186e-08, 6.03766195e-06,\n",
       "       3.02060752e-09, 4.82229636e-10, 1.20418471e-09, 1.76318520e-10,\n",
       "       1.39787032e-07, 1.24094180e-07, 4.90573053e-08, 3.24099046e-08,\n",
       "       1.33443428e-08, 7.42518053e-09, 1.25418502e-08, 2.74037465e-08,\n",
       "       1.41646533e-07, 9.27567851e-08, 2.90569075e-08, 1.56872078e-07,\n",
       "       2.80820194e-07, 1.83516277e-07, 2.07065993e-06, 1.23254214e-06,\n",
       "       6.09013397e-08, 6.72034260e-09, 1.08242346e-06, 7.33968151e-05,\n",
       "       9.93282099e-05, 1.04458278e-05, 1.47706427e-05, 3.24425666e-05,\n",
       "       1.96278806e-05, 2.21742188e-05, 1.09477533e-05, 3.65673392e-05,\n",
       "       3.17203465e-06, 1.06571944e-06, 6.82725843e-05, 1.56122982e-04,\n",
       "       1.18751814e-06, 1.93302887e-05, 7.36879353e-15, 3.28989885e-14,\n",
       "       5.19881653e-04, 3.52558097e-04, 1.09918966e-03, 2.32976423e-07,\n",
       "       1.70255254e-06, 2.65190557e-06, 1.91893145e-06, 2.76155003e-07,\n",
       "       3.09684075e-06, 1.55436185e-04, 2.82649201e-05, 1.33113724e-05,\n",
       "       9.29231150e-06, 1.69614882e-04, 4.16199528e-03, 5.08423001e-04,\n",
       "       6.46557589e-05, 2.29364761e-04, 1.78991414e-04, 4.32966554e-05,\n",
       "       2.08524530e-04, 1.28559728e-05, 1.04847355e-05, 2.14687657e-09,\n",
       "       6.19679878e-05, 7.25887711e-06, 3.94500933e-08, 5.74621388e-05,\n",
       "       1.14606923e-03, 2.17613868e-06, 8.25857660e-05, 3.13021702e-03,\n",
       "       1.26302568e-04, 8.19864424e-07, 2.11001779e-04, 4.33398146e-05,\n",
       "       1.02356802e-03, 3.41068804e-04, 4.00112977e-04, 1.26537232e-05,\n",
       "       9.32483281e-04, 7.41587544e-05, 1.07106761e-04, 3.20740841e-03,\n",
       "       1.64524821e-04, 2.75732276e-04, 5.27421387e-04, 6.56934623e-05,\n",
       "       9.42981251e-05, 1.43086411e-04, 1.22958563e-03, 2.38369797e-04,\n",
       "       4.93155592e-05, 7.15973715e-05, 3.79206636e-04, 4.68433282e-04,\n",
       "       1.12934900e-04, 3.12647478e-03, 7.29481562e-03, 2.02420165e-04,\n",
       "       2.85078373e-03, 2.63203643e-05, 1.43065695e-02, 1.51518587e-02,\n",
       "       2.22906139e-04, 5.02648626e-05, 3.08831983e-02, 1.15112688e-03,\n",
       "       1.29393487e-03, 3.20182607e-02, 7.86912576e-03, 5.20869779e-05,\n",
       "       1.23324056e-04, 3.10565179e-02, 4.10770787e-04, 1.22884787e-05,\n",
       "       4.93457233e-04, 1.32917676e-04, 6.66904573e-09, 7.89211933e-10])"
      ]
     },
     "execution_count": 12,
     "metadata": {},
     "output_type": "execute_result"
    }
   ],
   "source": [
    "_eline_lum"
   ]
  },
  {
   "cell_type": "code",
   "execution_count": 15,
   "metadata": {},
   "outputs": [
    {
     "ename": "AttributeError",
     "evalue": "'FastStepBasis' object has no attribute 'wavelength'",
     "output_type": "error",
     "traceback": [
      "\u001b[0;31m---------------------------------------------------------------------------\u001b[0m",
      "\u001b[0;31mAttributeError\u001b[0m                            Traceback (most recent call last)",
      "\u001b[0;32m/tmp/ipykernel_6854/2729772844.py\u001b[0m in \u001b[0;36m<module>\u001b[0;34m\u001b[0m\n\u001b[0;32m----> 1\u001b[0;31m \u001b[0mplt\u001b[0m\u001b[0;34m.\u001b[0m\u001b[0mplot\u001b[0m\u001b[0;34m(\u001b[0m\u001b[0msps\u001b[0m\u001b[0;34m.\u001b[0m\u001b[0mwavelength\u001b[0m\u001b[0;34m,\u001b[0m \u001b[0mspec\u001b[0m\u001b[0;34m)\u001b[0m\u001b[0;34m\u001b[0m\u001b[0;34m\u001b[0m\u001b[0m\n\u001b[0m",
      "\u001b[0;31mAttributeError\u001b[0m: 'FastStepBasis' object has no attribute 'wavelength'"
     ]
    }
   ],
   "source": [
    "plt.plot(spec)"
   ]
  },
  {
   "cell_type": "code",
   "execution_count": 23,
   "metadata": {},
   "outputs": [
    {
     "data": {
      "text/plain": [
       "['zred',\n",
       " 'logzsol',\n",
       " 'dust2',\n",
       " 'logmass',\n",
       " 'logsfr_ratios_1',\n",
       " 'logsfr_ratios_2',\n",
       " 'logsfr_ratios_3',\n",
       " 'logsfr_ratios_4',\n",
       " 'logsfr_ratios_5',\n",
       " 'logsfr_ratios_6',\n",
       " 'afe',\n",
       " 'dust_index',\n",
       " 'dust1_fraction',\n",
       " 'sigma_smooth',\n",
       " 'gas_logz',\n",
       " 'gas_logu',\n",
       " 'eline_sigma']"
      ]
     },
     "execution_count": 23,
     "metadata": {},
     "output_type": "execute_result"
    }
   ],
   "source": [
    "mod.theta_labels()"
   ]
  },
  {
   "cell_type": "code",
   "execution_count": 41,
   "metadata": {},
   "outputs": [
    {
     "data": {
      "text/plain": [
       "array([10.83985788])"
      ]
     },
     "execution_count": 41,
     "metadata": {},
     "output_type": "execute_result"
    }
   ],
   "source": [
    "mod.params.get('logmass',0)"
   ]
  },
  {
   "cell_type": "code",
   "execution_count": 50,
   "metadata": {},
   "outputs": [],
   "source": [
    "        _agebins = sps.params['agebins']\n",
    "        nbins = _agebins.shape[0]"
   ]
  },
  {
   "cell_type": "code",
   "execution_count": 51,
   "metadata": {},
   "outputs": [],
   "source": [
    "        i_log_totmass = mod.params.get('logmass',0)\n",
    "        i_logsfr_ratios = mod.params.get('logsfr_ratios',0)\n",
    "        sratios = 10**np.clip(i_logsfr_ratios, -100, 100)\n",
    "        dt = (10**_agebins[:, 1] - 10**_agebins[:, 0])\n",
    "        coeffs = np.array([ (1. / np.prod(sratios[:i])) * (np.prod(dt[1: i+1]) / np.prod(dt[: i])) for i in range(nbins)])\n",
    "        m1 = (10**i_log_totmass) / coeffs.sum()\n",
    "        masses = m1*coeffs\n",
    "        sfrs = masses/dt"
   ]
  },
  {
   "cell_type": "code",
   "execution_count": 73,
   "metadata": {},
   "outputs": [
    {
     "data": {
      "text/plain": [
       "5.919858384133532e-10"
      ]
     },
     "execution_count": 73,
     "metadata": {},
     "output_type": "execute_result"
    }
   ],
   "source": [
    "cat['log_ssfr'][i]"
   ]
  },
  {
   "cell_type": "code",
   "execution_count": 75,
   "metadata": {},
   "outputs": [
    {
     "data": {
      "text/plain": [
       "array([40.94201358])"
      ]
     },
     "execution_count": 75,
     "metadata": {},
     "output_type": "execute_result"
    }
   ],
   "source": [
    "10**(math.log10(cat['log_ssfr'][i]) + i_log_totmass)"
   ]
  },
  {
   "cell_type": "code",
   "execution_count": 76,
   "metadata": {},
   "outputs": [
    {
     "data": {
      "text/plain": [
       "array([[0.        , 7.4772    ],\n",
       "       [7.4772    , 8.        ],\n",
       "       [8.        , 8.41020802],\n",
       "       [8.41020802, 8.82041603],\n",
       "       [8.82041603, 9.23062405],\n",
       "       [9.23062405, 9.64083207],\n",
       "       [9.64083207, 9.68658956]])"
      ]
     },
     "execution_count": 76,
     "metadata": {},
     "output_type": "execute_result"
    }
   ],
   "source": [
    "_agebins"
   ]
  },
  {
   "cell_type": "code",
   "execution_count": 69,
   "metadata": {},
   "outputs": [
    {
     "data": {
      "text/plain": [
       "array([10.83985788])"
      ]
     },
     "execution_count": 69,
     "metadata": {},
     "output_type": "execute_result"
    }
   ],
   "source": [
    "i_log_totmass"
   ]
  },
  {
   "cell_type": "code",
   "execution_count": 60,
   "metadata": {},
   "outputs": [
    {
     "data": {
      "text/plain": [
       "array([40.55137181, 20.91601931,  9.11450372,  8.95046818,  7.19215638,\n",
       "       17.9814741 , 12.12654929])"
      ]
     },
     "execution_count": 60,
     "metadata": {},
     "output_type": "execute_result"
    }
   ],
   "source": [
    "sfrs"
   ]
  },
  {
   "cell_type": "code",
   "execution_count": 58,
   "metadata": {},
   "outputs": [
    {
     "data": {
      "text/plain": [
       "<matplotlib.lines.Line2D at 0x2b003a109fa0>"
      ]
     },
     "execution_count": 58,
     "metadata": {},
     "output_type": "execute_result"
    },
    {
     "data": {
      "image/png": "[encoded data removed]",
      "text/plain": [
       "<Figure size 432x288 with 1 Axes>"
      ]
     },
     "metadata": {
      "needs_background": "light"
     },
     "output_type": "display_data"
    }
   ],
   "source": [
    "\n",
    "plt.plot(sfrs)\n",
    "plt.axhline(10**cat['log_ssfr'][i])"
   ]
  },
  {
   "cell_type": "code",
   "execution_count": 86,
   "metadata": {},
   "outputs": [
    {
     "ename": "KeyError",
     "evalue": "'mass_units'",
     "output_type": "error",
     "traceback": [
      "\u001b[0;31m---------------------------------------------------------------------------\u001b[0m",
      "\u001b[0;31mKeyError\u001b[0m                                  Traceback (most recent call last)",
      "\u001b[0;32m/tmp/ipykernel_17658/3100912026.py\u001b[0m in \u001b[0;36m<module>\u001b[0;34m\u001b[0m\n\u001b[0;32m----> 1\u001b[0;31m \u001b[0mmod\u001b[0m\u001b[0;34m.\u001b[0m\u001b[0mparams\u001b[0m\u001b[0;34m[\u001b[0m\u001b[0;34m'mass_units'\u001b[0m\u001b[0;34m]\u001b[0m\u001b[0;34m\u001b[0m\u001b[0;34m\u001b[0m\u001b[0m\n\u001b[0m",
      "\u001b[0;31mKeyError\u001b[0m: 'mass_units'"
     ]
    }
   ],
   "source": [
    "mod.params['mass_units']"
   ]
  },
  {
   "cell_type": "code",
   "execution_count": 19,
   "metadata": {},
   "outputs": [
    {
     "data": {
      "text/plain": [
       "66"
      ]
     },
     "execution_count": 19,
     "metadata": {},
     "output_type": "execute_result"
    }
   ],
   "source": [
    "find_nearest(_eline_wave, 6731)"
   ]
  },
  {
   "cell_type": "code",
   "execution_count": 20,
   "metadata": {},
   "outputs": [
    {
     "data": {
      "text/plain": [
       "6732.67"
      ]
     },
     "execution_count": 20,
     "metadata": {},
     "output_type": "execute_result"
    }
   ],
   "source": [
    "_eline_wave[66]"
   ]
  },
  {
   "cell_type": "code",
   "execution_count": 13,
   "metadata": {},
   "outputs": [
    {
     "data": {
      "text/plain": [
       "array([6.68160736e-10, 7.22246790e-10, 1.07946211e-09, 1.65239923e-09,\n",
       "       2.49491837e-09, 5.25570933e-09, 1.62739186e-08, 6.03766195e-06,\n",
       "       3.02060752e-09, 4.82229636e-10, 1.20418471e-09, 1.76318520e-10,\n",
       "       1.39787032e-07, 1.24094180e-07, 4.90573053e-08, 3.24099046e-08,\n",
       "       1.33443428e-08, 7.42518053e-09, 1.25418502e-08, 2.74037465e-08,\n",
       "       1.41646533e-07, 9.27567851e-08, 2.90569075e-08, 1.56872078e-07,\n",
       "       2.80820194e-07, 1.83516277e-07, 2.07065993e-06, 1.23254214e-06,\n",
       "       6.09013397e-08, 6.72034260e-09, 1.08242346e-06, 7.33968151e-05,\n",
       "       9.93282099e-05, 1.04458278e-05, 1.47706427e-05, 3.24425666e-05,\n",
       "       1.96278806e-05, 2.21742188e-05, 1.09477533e-05, 3.65673392e-05,\n",
       "       3.17203465e-06, 1.06571944e-06, 6.82725843e-05, 1.56122982e-04,\n",
       "       1.18751814e-06, 1.93302887e-05, 7.36879353e-15, 3.28989885e-14,\n",
       "       5.19881653e-04, 3.52558097e-04, 1.09918966e-03, 2.32976423e-07,\n",
       "       1.70255254e-06, 2.65190557e-06, 1.91893145e-06, 2.76155003e-07,\n",
       "       3.09684075e-06, 1.55436185e-04, 2.82649201e-05, 1.33113724e-05,\n",
       "       9.29231150e-06, 1.69614882e-04, 4.16199528e-03, 5.08423001e-04,\n",
       "       6.46557589e-05, 2.29364761e-04, 1.78991414e-04, 4.32966554e-05,\n",
       "       2.08524530e-04, 1.28559728e-05, 1.04847355e-05, 2.14687657e-09,\n",
       "       6.19679878e-05, 7.25887711e-06, 3.94500933e-08, 5.74621388e-05,\n",
       "       1.14606923e-03, 2.17613868e-06, 8.25857660e-05, 3.13021702e-03,\n",
       "       1.26302568e-04, 8.19864424e-07, 2.11001779e-04, 4.33398146e-05,\n",
       "       1.02356802e-03, 3.41068804e-04, 4.00112977e-04, 1.26537232e-05,\n",
       "       9.32483281e-04, 7.41587544e-05, 1.07106761e-04, 3.20740841e-03,\n",
       "       1.64524821e-04, 2.75732276e-04, 5.27421387e-04, 6.56934623e-05,\n",
       "       9.42981251e-05, 1.43086411e-04, 1.22958563e-03, 2.38369797e-04,\n",
       "       4.93155592e-05, 7.15973715e-05, 3.79206636e-04, 4.68433282e-04,\n",
       "       1.12934900e-04, 3.12647478e-03, 7.29481562e-03, 2.02420165e-04,\n",
       "       2.85078373e-03, 2.63203643e-05, 1.43065695e-02, 1.51518587e-02,\n",
       "       2.22906139e-04, 5.02648626e-05, 3.08831983e-02, 1.15112688e-03,\n",
       "       1.29393487e-03, 3.20182607e-02, 7.86912576e-03, 5.20869779e-05,\n",
       "       1.23324056e-04, 3.10565179e-02, 4.10770787e-04, 1.22884787e-05,\n",
       "       4.93457233e-04, 1.32917676e-04, 6.66904573e-09, 7.89211933e-10])"
      ]
     },
     "execution_count": 13,
     "metadata": {},
     "output_type": "execute_result"
    }
   ],
   "source": [
    "_eline_lum"
   ]
  },
  {
   "cell_type": "code",
   "execution_count": null,
   "metadata": {},
   "outputs": [],
   "source": []
  },
  {
   "cell_type": "code",
   "execution_count": null,
   "metadata": {},
   "outputs": [],
   "source": []
  },
  {
   "cell_type": "code",
   "execution_count": 39,
   "metadata": {},
   "outputs": [],
   "source": [
    "        # -- the following parameters will be used to update emis\n",
    "        i_log_totmass = theta_all_df['logmass'].loc[i]\n",
    "        i_log_stellarmass = math.log10(sm * 10**i_log_totmass)\n",
    "        # -- Question: what's the diff btw i_log_stellarmass and log_stellar mass in cat?\n",
    "        i_A_v = cat['dust2'][i] * 1.086 \n",
    "        # -- TODO: shoud aviod using cat here...\n",
    "        i_log_SFR = math.log10(cat['log_ssfr'][i])+i_log_stellarmass"
   ]
  },
  {
   "cell_type": "code",
   "execution_count": 43,
   "metadata": {},
   "outputs": [],
   "source": [
    "import Valentino2017_Strom"
   ]
  },
  {
   "cell_type": "code",
   "execution_count": 42,
   "metadata": {},
   "outputs": [],
   "source": [
    "import extinction"
   ]
  },
  {
   "cell_type": "code",
   "execution_count": null,
   "metadata": {},
   "outputs": [],
   "source": []
  }
 ],
 "metadata": {
  "kernelspec": {
   "display_name": "Python 3 (ipykernel)",
   "language": "python",
   "name": "python3"
  },
  "language_info": {
   "codemirror_mode": {
    "name": "ipython",
    "version": 3
   },
   "file_extension": ".py",
   "mimetype": "text/x-python",
   "name": "python",
   "nbconvert_exporter": "python",
   "pygments_lexer": "ipython3",
   "version": "3.8.0"
  }
 },
 "nbformat": 4,
 "nbformat_minor": 4
}
